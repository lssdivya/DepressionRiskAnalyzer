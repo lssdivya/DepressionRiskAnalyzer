{
 "cells": [
  {
   "cell_type": "code",
   "execution_count": 1,
   "id": "d0c48bab-8863-454e-966f-672a10cafedf",
   "metadata": {},
   "outputs": [],
   "source": [
    "import requests"
   ]
  },
  {
   "cell_type": "code",
   "execution_count": 6,
   "id": "dd2ddacb-975b-41d0-8631-8f7029a6961b",
   "metadata": {},
   "outputs": [],
   "source": [
    "url='http://192.168.1.43:9696/predict'\n",
    "#url_docker='http://localhost:5000/pred'"
   ]
  },
  {
   "cell_type": "code",
   "execution_count": 13,
   "id": "b0b0c4e7-30f2-4420-a5a9-62f25f7378b4",
   "metadata": {},
   "outputs": [],
   "source": [
    "person1 ={'age': 60.0,\n",
    "         'academic-pressure': 5,\n",
    "         'work-pressure': 5.0,\n",
    "         'cgpa':-1,\n",
    "         'study-satisfaction': -1,\n",
    "         'job-satisfaction': 0.0,\n",
    "         'work-study-hours': 15.0,\n",
    "         'financial-stress': 5.0,\n",
    "         'gender': 'male',\n",
    "         'city': 'pune',\n",
    "         'working-professional-or-student': 'student',\n",
    "         'profession': 'teacher',\n",
    "         'sleep-duration': 'less than 5 hours',\n",
    "         'dietary-habits': 'unhealthy',\n",
    "         'degree': 'b.tech',\n",
    "         'have-you-ever-had-suicidal-thoughts-?': 'yes',\n",
    "         'family-history-of-mental-illness': 'yes'}\n"
   ]
  },
  {
   "cell_type": "code",
   "execution_count": null,
   "id": "c74d3178-37b4-434f-be25-9c2babdf4324",
   "metadata": {},
   "outputs": [],
   "source": [
    "person1 ={'age': 60.0,\n",
    "         'academic-pressure': 5,\n",
    "         'work-pressure': 5.0,\n",
    "         'cgpa':-1,\n",
    "         'study-satisfaction': -1,\n",
    "         'job-satisfaction': 0.0,\n",
    "         'work-study-hours': 15.0,\n",
    "         'financial-stress': 5.0,\n",
    "         'gender': 'male',\n",
    "         'city': 'pune',\n",
    "         'working-professional-or-student': 'student',\n",
    "         'profession': 'teacher',\n",
    "         'sleep-duration': 'less than 5 hours',\n",
    "         'dietary-habits': 'unhealthy',\n",
    "         'degree': 'b.tech',\n",
    "         'have-you-ever-had-suicidal-thoughts-?': 'yes',\n",
    "         'family-history-of-mental-illness': 'yes'}\n"
   ]
  },
  {
   "cell_type": "code",
   "execution_count": 15,
   "id": "9c9d5243-8a6b-4d70-b958-e409e7c0caa4",
   "metadata": {},
   "outputs": [
    {
     "name": "stdout",
     "output_type": "stream",
     "text": [
      "{'depression_risk': 0.7312065958976746}\n"
     ]
    }
   ],
   "source": [
    "response=requests.post(url, json=person1).json()\n",
    "print(response)"
   ]
  },
  {
   "cell_type": "code",
   "execution_count": null,
   "id": "6742cea2-361d-46a4-a7ae-907a58997279",
   "metadata": {},
   "outputs": [],
   "source": []
  }
 ],
 "metadata": {
  "kernelspec": {
   "display_name": "Python 3 (ipykernel)",
   "language": "python",
   "name": "python3"
  },
  "language_info": {
   "codemirror_mode": {
    "name": "ipython",
    "version": 3
   },
   "file_extension": ".py",
   "mimetype": "text/x-python",
   "name": "python",
   "nbconvert_exporter": "python",
   "pygments_lexer": "ipython3",
   "version": "3.12.4"
  }
 },
 "nbformat": 4,
 "nbformat_minor": 5
}
