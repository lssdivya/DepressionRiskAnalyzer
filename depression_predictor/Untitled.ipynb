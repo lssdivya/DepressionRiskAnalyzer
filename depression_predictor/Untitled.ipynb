{
 "cells": [
  {
   "cell_type": "code",
   "execution_count": 17,
   "id": "d0c48bab-8863-454e-966f-672a10cafedf",
   "metadata": {},
   "outputs": [],
   "source": [
    "import requests"
   ]
  },
  {
   "cell_type": "code",
   "execution_count": 32,
   "id": "dd2ddacb-975b-41d0-8631-8f7029a6961b",
   "metadata": {},
   "outputs": [],
   "source": [
    "url='http://192.168.1.43:9696/predict'\n",
    "url_docker='http://localhost:5000/predict'"
   ]
  },
  {
   "cell_type": "code",
   "execution_count": 42,
   "id": "b0b0c4e7-30f2-4420-a5a9-62f25f7378b4",
   "metadata": {},
   "outputs": [],
   "source": [
    "person1 ={'age': 60.0,\n",
    "         'academic-pressure': 5,\n",
    "         'work-pressure': -1,\n",
    "         'cgpa':5,\n",
    "         'study-satisfaction': 5,\n",
    "         'job-satisfaction': -1,\n",
    "         'work-study-hours': 15.0,\n",
    "         'financial-stress': 5.0,\n",
    "         'gender': 'male',\n",
    "         'city': 'pune',\n",
    "         'working-professional-or-student': 'student',\n",
    "         'profession': 'not-applicable',\n",
    "         'sleep-duration': 'less than 5 hours',\n",
    "         'dietary-habits': 'unhealthy',\n",
    "         'degree': 'b.tech',\n",
    "         'have-you-ever-had-suicidal-thoughts-?': 'yes',\n",
    "         'family-history-of-mental-illness': 'yes'}\n"
   ]
  },
  {
   "cell_type": "code",
   "execution_count": 45,
   "id": "c74d3178-37b4-434f-be25-9c2babdf4324",
   "metadata": {},
   "outputs": [],
   "source": [
    "person2 ={\n",
    "    \"age\": 56.0,\n",
    "    \"academic-pressure\": -1,\n",
    "    \"work-pressure\": 5,\n",
    "    \"cgpa\": -1,\n",
    "    \"study-satisfaction\": -1,\n",
    "    \"job-satisfaction\": 1,\n",
    "    \"work-study-hours\": 15.0,\n",
    "    \"financial-stress\": 5.0,\n",
    "    \"gender\": \"male\",\n",
    "    \"city\": \"mumbai\",\n",
    "    \"working-professional-or-student\": \"working professional\",\n",
    "    \"profession\": \"teacher\",\n",
    "    \"sleep-duration\": \"less than 5 hours\",\n",
    "    \"dietary-habits\": \"healthy\",\n",
    "    \"degree\": \"b.tech\",\n",
    "    \"have-you-ever-had-suicidal-thoughts-?\": \"no\",\n",
    "    \"family-history-of-mental-illness\": \"no\"\n",
    "}\n"
   ]
  },
  {
   "cell_type": "code",
   "execution_count": 46,
   "id": "9c9d5243-8a6b-4d70-b958-e409e7c0caa4",
   "metadata": {},
   "outputs": [
    {
     "name": "stdout",
     "output_type": "stream",
     "text": [
      "{'prediction': 'The depression risk is: 97.0%'}\n"
     ]
    }
   ],
   "source": [
    "response=requests.post(url_docker, json=person2).json()\n",
    "print(response)"
   ]
  },
  {
   "cell_type": "code",
   "execution_count": 23,
   "id": "6742cea2-361d-46a4-a7ae-907a58997279",
   "metadata": {},
   "outputs": [
    {
     "ename": "SyntaxError",
     "evalue": "unterminated string literal (detected at line 1) (363536374.py, line 1)",
     "output_type": "error",
     "traceback": [
      "\u001b[1;36m  Cell \u001b[1;32mIn[23], line 1\u001b[1;36m\u001b[0m\n\u001b[1;33m    curl -X POST -H \"Content-Type: application/json\" -d '{\u001b[0m\n\u001b[1;37m                                                        ^\u001b[0m\n\u001b[1;31mSyntaxError\u001b[0m\u001b[1;31m:\u001b[0m unterminated string literal (detected at line 1)\n"
     ]
    }
   ],
   "source": [
    "curl -X POST -H \"Content-Type: application/json\" -d '{\n",
    "    \"age\": 60.0,\n",
    "    \"academic-pressure\": -1,\n",
    "    \"work-pressure\": 5,\n",
    "    \"cgpa\": -1,\n",
    "    \"study-satisfaction\": -1,\n",
    "    \"job-satisfaction\": 1,\n",
    "    \"work-study-hours\": 15.0,\n",
    "    \"financial-stress\": 5.0,\n",
    "    \"gender\": \"male\",\n",
    "    \"city\": \"pune\",\n",
    "    \"working-professional-or-student\": \"working professional\",\n",
    "    \"profession\": \"teacher\",\n",
    "    \"sleep-duration\": \"less than 5 hours\",\n",
    "    \"dietary-habits\": \"unhealthy\",\n",
    "    \"degree\": \"b.tech\",\n",
    "    \"have-you-ever-had-suicidal-thoughts-?\": \"yes\",\n",
    "    \"family-history-of-mental-illness\": \"yes\"\n",
    "\n",
    "}'http://localhost:9696/predict\n"
   ]
  },
  {
   "cell_type": "code",
   "execution_count": 16,
   "id": "ca912ccc-6ad6-4fe0-b25b-9756af8f79d6",
   "metadata": {},
   "outputs": [
    {
     "ename": "SyntaxError",
     "evalue": "unterminated string literal (detected at line 1) (4145696746.py, line 1)",
     "output_type": "error",
     "traceback": [
      "\u001b[1;36m  Cell \u001b[1;32mIn[16], line 1\u001b[1;36m\u001b[0m\n\u001b[1;33m    curl -X POST -H \"Content-Type: application/json\" -d '{\u001b[0m\n\u001b[1;37m                                                        ^\u001b[0m\n\u001b[1;31mSyntaxError\u001b[0m\u001b[1;31m:\u001b[0m unterminated string literal (detected at line 1)\n"
     ]
    }
   ],
   "source": [
    "curl -X POST -H \"Content-Type: application/json\" -d '{\n",
    "    \"age\": 25,\n",
    "    \"gender\": \"male\",\n",
    "    \"city\": \"New York\",\n",
    "    \"academic_pressure\": 3,\n",
    "    \"work_pressure\": 2,\n",
    "    \"cgpa\": 3.5,\n",
    "    \"study_satisfaction\": 4,\n",
    "    \"job_satisfaction\": 5,\n",
    "    \"work_study_hours\": 2,\n",
    "    \"financial_stress\": 3,\n",
    "    \"working_professional_or_student\": \"student\",\n",
    "    \"profession\": \"engineer\",\n",
    "    \"sleep_duration\": \"7\",\n",
    "    \"dietary_habits\": \"healthy\",\n",
    "    \"degree\": \"undergraduate\",\n",
    "    \"suicidal_thoughts\": \"no\",\n",
    "    \"family_history\": \"no\"\n",
    "}' http://localhost:9696/predict\n"
   ]
  },
  {
   "cell_type": "code",
   "execution_count": null,
   "id": "2b87eaed-0fbc-44f5-b13e-8b2e80cd2215",
   "metadata": {},
   "outputs": [],
   "source": [
    "curl -X POST -H \"Content-Type: application/json\" -d '{\n",
    "    \"age\": 60.0,\n",
    "    \"academic-pressure\": -1,\n",
    "    \"work-pressure\": 5,\n",
    "    \"cgpa\": -1,\n",
    "    \"study-satisfaction\": -1,\n",
    "    \"job-satisfaction\": 1,\n",
    "    \"work-study-hours\": 15.0,\n",
    "    \"financial-stress\": 5.0,\n",
    "    \"gender\": \"male\",\n",
    "    \"city\": \"pune\",\n",
    "    \"working-professional-or-student\": \"working professional\",\n",
    "    \"profession\": \"teacher\",\n",
    "    \"sleep-duration\": \"less than 5 hours\",\n",
    "    \"dietary-habits\": \"unhealthy\",\n",
    "    \"degree\": \"b.tech\",\n",
    "    \"have-you-ever-had-suicidal-thoughts-?\": \"yes\",\n",
    "    \"family-history-of-mental-illness\": \"yes\"\n",
    "\n",
    "}'  http://localhost:9696/predict"
   ]
  }
 ],
 "metadata": {
  "kernelspec": {
   "display_name": "Python 3 (ipykernel)",
   "language": "python",
   "name": "python3"
  },
  "language_info": {
   "codemirror_mode": {
    "name": "ipython",
    "version": 3
   },
   "file_extension": ".py",
   "mimetype": "text/x-python",
   "name": "python",
   "nbconvert_exporter": "python",
   "pygments_lexer": "ipython3",
   "version": "3.12.4"
  }
 },
 "nbformat": 4,
 "nbformat_minor": 5
}
